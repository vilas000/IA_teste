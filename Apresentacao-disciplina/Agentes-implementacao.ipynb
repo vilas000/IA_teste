{
  "nbformat": 4,
  "nbformat_minor": 0,
  "metadata": {
    "colab": {
      "name": "Aula04-Agentes-implementacao-aula.ipynb",
      "provenance": [],
      "include_colab_link": true
    },
    "kernelspec": {
      "name": "python3",
      "display_name": "Python 3"
    }
  },
  "cells": [
    {
      "cell_type": "markdown",
      "metadata": {
        "id": "view-in-github",
        "colab_type": "text"
      },
      "source": [
        "<a href=\"https://colab.research.google.com/github/vilas000/IA_teste/blob/main/Apresentacao-disciplina/Agentes-implementacao.ipynb\" target=\"_parent\"><img src=\"https://colab.research.google.com/assets/colab-badge.svg\" alt=\"Open In Colab\"/></a>"
      ]
    },
    {
      "cell_type": "markdown",
      "metadata": {
        "id": "F6a4L9XsypDW"
      },
      "source": [
        "# **Implementação - Smart house**\n",
        "\n",
        "A seguir, vamos apresentar a implementação de uma possível funcionalidade de uma *smart house*\n",
        "\n",
        "Imagine que a implementação controle o estoque de papel higiênico da sua casa (república). O sistema mantém uma quantidade mínima de papel e tenta comprar os produtos a um preço baixo."
      ]
    },
    {
      "cell_type": "markdown",
      "metadata": {
        "id": "BDziRWk_2XeH"
      },
      "source": [
        "# Importar bibliotecas necessárias para executar o código\n"
      ]
    },
    {
      "cell_type": "code",
      "metadata": {
        "id": "w9x_GHLf2inS"
      },
      "source": [
        "from random import *\n",
        "import matplotlib.pyplot as plt\n",
        "import numpy as np"
      ],
      "execution_count": null,
      "outputs": []
    },
    {
      "cell_type": "markdown",
      "metadata": {
        "id": "5BcRoq-YA-Bp"
      },
      "source": [
        "# Definição do ambiente\n",
        "\n",
        "Vamos armazenar no ambiente as seguintes informações:\n",
        "\n",
        "*   Informação do dia\n",
        "*   Preço do produto em cada um dos dias da série\n",
        "*   Histórico de preços\n",
        "*   Histórico de estoque\n",
        "*   Histórico com a quantidade de produtos comprados"
      ]
    },
    {
      "cell_type": "code",
      "metadata": {
        "id": "W-oVGYEvyEA0"
      },
      "source": [
        "# Definicao da classe ambiente\n",
        "class Ambiente():\n",
        "\n",
        "  def __init__(self):\n",
        "    # Ambiente explorado pelo agente de compra de papel higienico\n",
        "    self.bateria=300 # Valor em kWh\n",
        "    self.historico_preco=[]\n",
        "    # self.estoque=30 # Valor do estoque inicial\n",
        "    # self.historico_estoque=[self.estoque]\n",
        "    # self.historico_qtde_comprados=[0]\n",
        "\n",
        "  def percebe_bateria(self):\n",
        "    return self.bateria\n",
        "\n",
        "  def percebe_preco_atual(self):\n",
        "    return self.historico_preco[len(self.historico_preco)-1]\n",
        "\n",
        "  def percebe_media_simples(self):\n",
        "    return sum(self.historico_preco)/len(self.historico_preco)\n",
        "\n",
        "  def percebe_media_movel(self):\n",
        "    qte_dias = 5\n",
        "    if(len(self.historico_preco) < qte_dias):\n",
        "      return sum(self.historico_preco)/len(self.historico_preco)\n",
        "    else\n",
        "      return sum(self.historico_preco[len(self.historico_preco) - qte_dias : len(self.historico_preco)]) / qte_dias\n",
        "\n",
        "  def run(self, dic_acoes):\n",
        "    '''Realizar alteracoes no ambiente:\n",
        "       Definir, aleatoriamente, uma quantidade de produtos consumidos\n",
        "       Atualizar o historico do preco atual e do estoque.\n",
        "       Essas informacoes serao utilizadas pelo agente para decidir a compra ou nao de produtos\n",
        "    '''\n",
        "    # Consumo realizado (valores gerados aleatoriamente)\n",
        "    consumo_diario = randint(200,400) # recebe aleatoriamente valores entre 0 e 10 [start, end] - Intervalo fechado\n",
        "    preco_energia = uniform(0.5, 2.0)\n",
        "    self.historico_preco.append(preco_energia)\n",
        "    # self.historico_qtde_comprados.append(dic_acoes[\"comprar\"])\n",
        "    # estoque_atual = self.historico_estoque[len(self.historico_estoque)-1] - qtde_consumidos + dic_acoes[\"comprar\"]\n",
        "\n",
        "    self.bateria -= consumo_diario\n",
        "    if(self.bateria <= 0):\n",
        "      self.bateria = 0\n",
        "      return\n"
      ],
      "execution_count": null,
      "outputs": []
    },
    {
      "cell_type": "markdown",
      "source": [],
      "metadata": {
        "id": "_JdpCln9Hnzp"
      }
    },
    {
      "cell_type": "markdown",
      "metadata": {
        "id": "xpWqr3xuFUBy"
      },
      "source": [
        "# Definição do agente\n",
        "\n",
        "O agente vai armazenar informações sobre:\n",
        "*   Ambiente (Composição de classes)\n",
        "*   Valor médio das compras\n",
        "*   Informação do último valor do produto\n",
        "*   Informação sobre o estoque atual de produtos na casa"
      ]
    },
    {
      "cell_type": "code",
      "metadata": {
        "id": "wWC7zgz3Hkbi"
      },
      "source": [
        "# Definição da classe agente\n",
        "\n",
        "class Agente():\n",
        "\n",
        "  def __init__(self, ambiente):\n",
        "    self.num_dias = 1\n",
        "    self.ambiente= ambiente\n",
        "    self.total_gasto = 0\n",
        "    # self.bateria= ambiente.percebe_bateria()\n",
        "    # self.preco_atual = ambiente.percebe_preco_atual()\n",
        "    # self.preco_atual = self.media = ambiente.percebe_preco_atual()\n",
        "\n",
        "  def executa_agente(self, qtde_dias=20):\n",
        "\n",
        "    for i in range(qtde_dias):\n",
        "      # O agente percebe o estado do ambiente\n",
        "      self.bateria= self.ambiente.percebe_bateria()\n",
        "      self.preco_atual= self.ambiente.percebe_preco_atual()\n",
        "\n",
        "      self.media_simples = self.ambiente.percebe_media_simples()\n",
        "      self.media_movel = self.ambiente.percebe_media_movel()\n",
        "\n",
        "      '''\n",
        "        Controlador do agente:\n",
        "        - Define a regra para compra de produtos\n",
        "      '''\n",
        "      if self.bateria <= 100 and (self.preco_atual < min(self.media_simples, self.media_movel)):\n",
        "        compra= 50\n",
        "      elif self.estoque < 12:\n",
        "        compra= 12\n",
        "      else:\n",
        "        compra= 0\n",
        "\n",
        "      # Fim do controlador\n",
        "      self.total_gasto += self.preco_atual*compra\n",
        "      # O agente aplica modificacoes ao ambiente)\n",
        "      self.ambiente.run({\"comprar\": compra})\n",
        "\n",
        "      self.num_dias+=1\n",
        "      self.media = (self.media*(self.num_dias-1) + self.preco_atual)/self.num_dias"
      ],
      "execution_count": null,
      "outputs": []
    },
    {
      "cell_type": "markdown",
      "metadata": {
        "id": "-LM3sAw-nuH9"
      },
      "source": [
        "# Definir classe para impressão dos resultados\n"
      ]
    },
    {
      "cell_type": "code",
      "metadata": {
        "id": "cREbTlzlnzDT"
      },
      "source": [
        "class Imprime():\n",
        "  def imprime_resultado(agente):\n",
        "    historico_dias = np.linspace(0, agente.num_dias, agente.num_dias)\n",
        "\n",
        "    # Primeira impressão: historico do preco\n",
        "    plt.plot(historico_dias, agente.ambiente.historico_preco, 'bo--', label='Historico (preço)')\n",
        "    plt.legend()\n",
        "    plt.show()\n",
        "\n",
        "    # Segunda impressão: historico qtde itens comprados\n",
        "    fig, ax = plt.subplots()\n",
        "    ax.vlines(historico_dias, ymin=0, ymax=agente.ambiente.historico_qtde_comprados)\n",
        "    ax.plot(historico_dias, agente.ambiente.historico_qtde_comprados, \"go\")\n",
        "    ax.set_ylim(0, 100)\n",
        "    plt.show()\n",
        "\n",
        "    # Terceira impressão: historico do estoque\n",
        "    plt.plot(historico_dias, agente.ambiente.historico_estoque, 'rD--', label='Historico (estoque)')\n",
        "    plt.legend()\n",
        "    plt.show()\n",
        "\n"
      ],
      "execution_count": null,
      "outputs": []
    },
    {
      "cell_type": "markdown",
      "metadata": {
        "id": "GNp-QYrtNtqG"
      },
      "source": [
        "# Execução do programa\n",
        "\n",
        "Por um determinado número de iterações, vamos gerar valores aleatórios para o preco do papel higienico e a quantidade de produto consumido"
      ]
    },
    {
      "cell_type": "code",
      "metadata": {
        "id": "0iTwxYecaw6t",
        "outputId": "b579beaf-4368-41a2-da4e-12a7bb3a0ad8",
        "colab": {
          "base_uri": "https://localhost:8080/",
          "height": 211
        }
      },
      "source": [
        "ambiente_atuacao = Ambiente()\n",
        "smart_house = Agente(ambiente_atuacao)\n",
        "smart_house.executa_agente(20)\n",
        "\n",
        "\n",
        "Imprime.imprime_resultado(smart_house)"
      ],
      "execution_count": null,
      "outputs": [
        {
          "output_type": "error",
          "ename": "NameError",
          "evalue": "name 'Ambiente' is not defined",
          "traceback": [
            "\u001b[0;31m---------------------------------------------------------------------------\u001b[0m",
            "\u001b[0;31mNameError\u001b[0m                                 Traceback (most recent call last)",
            "\u001b[0;32m<ipython-input-2-dbdbb015f477>\u001b[0m in \u001b[0;36m<cell line: 0>\u001b[0;34m()\u001b[0m\n\u001b[0;32m----> 1\u001b[0;31m \u001b[0mambiente_atuacao\u001b[0m \u001b[0;34m=\u001b[0m \u001b[0mAmbiente\u001b[0m\u001b[0;34m(\u001b[0m\u001b[0;34m)\u001b[0m\u001b[0;34m\u001b[0m\u001b[0;34m\u001b[0m\u001b[0m\n\u001b[0m\u001b[1;32m      2\u001b[0m \u001b[0msmart_house\u001b[0m \u001b[0;34m=\u001b[0m \u001b[0mAgente\u001b[0m\u001b[0;34m(\u001b[0m\u001b[0mambiente_atuacao\u001b[0m\u001b[0;34m)\u001b[0m\u001b[0;34m\u001b[0m\u001b[0;34m\u001b[0m\u001b[0m\n\u001b[1;32m      3\u001b[0m \u001b[0msmart_house\u001b[0m\u001b[0;34m.\u001b[0m\u001b[0mexecuta_agente\u001b[0m\u001b[0;34m(\u001b[0m\u001b[0;36m20\u001b[0m\u001b[0;34m)\u001b[0m\u001b[0;34m\u001b[0m\u001b[0;34m\u001b[0m\u001b[0m\n\u001b[1;32m      4\u001b[0m \u001b[0;34m\u001b[0m\u001b[0m\n\u001b[1;32m      5\u001b[0m \u001b[0;34m\u001b[0m\u001b[0m\n",
            "\u001b[0;31mNameError\u001b[0m: name 'Ambiente' is not defined"
          ]
        }
      ]
    }
  ]
}